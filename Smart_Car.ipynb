{
  "nbformat": 4,
  "nbformat_minor": 0,
  "metadata": {
    "kernelspec": {
      "display_name": "Python 3.8 (tensorflow)",
      "language": "python",
      "name": "tensorflow"
    },
    "language_info": {
      "codemirror_mode": {
        "name": "ipython",
        "version": 3
      },
      "file_extension": ".py",
      "mimetype": "text/x-python",
      "name": "python",
      "nbconvert_exporter": "python",
      "pygments_lexer": "ipython3",
      "version": "3.8.5"
    },
    "colab": {
      "name": "Smart Car.ipynb",
      "provenance": [],
      "collapsed_sections": []
    }
  },
  "cells": [
    {
      "cell_type": "markdown",
      "metadata": {
        "id": "RdG8198cErTX"
      },
      "source": [
        "<h1 align=\"center\">Smart Car</h1> \n",
        "<h3 align=\"center\">Inteligencia Artificial - WS7A</h3> "
      ]
    },
    {
      "cell_type": "markdown",
      "metadata": {
        "id": "kYMt02NnE0fu"
      },
      "source": [
        "## Auto autónomo utilizando Redes Neuronales Artificiales (RNA)"
      ]
    },
    {
      "cell_type": "markdown",
      "metadata": {
        "id": "ZTN3GRdMF0n-"
      },
      "source": [
        "#### 1. Importar librerías"
      ]
    },
    {
      "cell_type": "code",
      "metadata": {
        "id": "fm7ulzs9-0eW"
      },
      "source": [
        "import tensorflow as tf\n",
        "import numpy as np\n",
        "import matplotlib.pyplot as plt\n",
        "from itertools import product\n",
        "import copy"
      ],
      "execution_count": 1,
      "outputs": []
    },
    {
      "cell_type": "markdown",
      "metadata": {
        "id": "jxd429PAGWxV"
      },
      "source": [
        "#### 2. Inicializar datos de entrenamiento"
      ]
    },
    {
      "cell_type": "markdown",
      "metadata": {
        "id": "uKiVNDW_GcLt"
      },
      "source": [
        "El arreglo x continene diferentes estados de los 4 sensores (UP, DOWN, LEFT, RIGHT) para el entrenamiento. Donde los valores son: \n",
        ">0.0: \tCuando no hay obstáculos próximos en esa dirección, la posición del obstáculo es mayor a 4 unidades de distancia.\n",
        "\n",
        ">0.5:\tCuando hay obstáculos próximos en esa dirección, la posición del obstáculo es menor o igual a 4 y mayor a 2 unidades de distancia.\n",
        "\n",
        ">1.0: \tCuando hay obstáculos cerca en esa dirección, la posición del obstáculo es menor o igual a 2 unidades de distancia.\n",
        "\n",
        "El arreglo y continene la salida de los 2 movimientos (UP/DOWN, LEFT/RIGHT) del auto correspondiente a los estados de x. Donde los valores son:\n",
        ">0: \tEl auto no se moverá en ese “eje”.\n",
        "\n",
        ">1:\tEl auto se moverá a la primera dirección del eje (arriba en UP/DOWN y a la izquierda en LEFT/RIGHT).\n",
        "\n",
        ">-1: \tEl auto se moverá a la segunda dirección del eje (abajo en UP/DOWN y a la derecha en LEFT/RIGHT).\n"
      ]
    },
    {
      "cell_type": "code",
      "metadata": {
        "id": "XLfCKtLhKwCa"
      },
      "source": [
        "arr=[0.0,0.5,1.0]\n",
        "r=4\n",
        "x0 = list(product(arr, repeat=r))\n",
        "x1 = []\n",
        "for i in x0:\n",
        "  x1.append(list(i))\n",
        "x1.pop(-1)\n",
        "\n",
        "x = np.array(x1)\n",
        "y = np.array([[0,\t-1],\n",
        "[-1,\t-1],\n",
        "[-1,\t0],\n",
        "[0,\t-1],\n",
        "[-1,\t-1],\n",
        "[-1,\t0],\n",
        "[0,\t-1],\n",
        "[-1,\t-1],\n",
        "[-1,\t0],\n",
        "[0,\t-1],\n",
        "[1,\t-1],\n",
        "[1,\t0],\n",
        "[0,\t-1],\n",
        "[1,\t-1],\n",
        "[1,\t0],\n",
        "[0,\t-1],\n",
        "[1,\t-1],\n",
        "[1,\t0],\n",
        "[0,\t-1],\n",
        "[1,\t-1],\n",
        "[1,\t0],\n",
        "[0,\t-1],\n",
        "[1,\t-1],\n",
        "[1,\t0],\n",
        "[0,\t-1],\n",
        "[1,\t-1],\n",
        "[1,\t0],\n",
        "[0,\t-1],\n",
        "[-1,\t-1],\n",
        "[-1,\t0],\n",
        "[0,\t-1],\n",
        "[-1,\t-1],\n",
        "[-1,\t0],\n",
        "[0,\t-1],\n",
        "[-1,\t-1],\n",
        "[-1,\t0],\n",
        "[0,\t-1],\n",
        "[1,\t-1],\n",
        "[1,\t0],\n",
        "[0,\t-1],\n",
        "[1,\t-1],\n",
        "[1,\t0],\n",
        "[0,\t-1],\n",
        "[1,\t-1],\n",
        "[1,\t0],\n",
        "[0,\t-1],\n",
        "[1,\t-1],\n",
        "[1,\t0],\n",
        "[0,\t-1],\n",
        "[1,\t-1],\n",
        "[1,\t0],\n",
        "[0,\t-1],\n",
        "[1,\t-1],\n",
        "[1,\t0],\n",
        "[0,\t-1],\n",
        "[-1,\t-1],\n",
        "[-1,\t0],\n",
        "[0,\t-1],\n",
        "[-1,\t-1],\n",
        "[-1,\t0],\n",
        "[0,\t-1],\n",
        "[-1,\t-1],\n",
        "[-1,\t0],\n",
        "[0,\t-1],\n",
        "[-1,\t-1],\n",
        "[-1,\t1],\n",
        "[0,\t-1],\n",
        "[-1,\t-1],\n",
        "[-1,\t1],\n",
        "[0,\t-1],\n",
        "[-1,\t-1],\n",
        "[-1,\t0],\n",
        "[0,\t-1],\n",
        "[0,\t1],\n",
        "[0,\t1],\n",
        "[0,\t-1],\n",
        "[0,\t-1],\n",
        "[0,\t1],\n",
        "[0,\t-1],\n",
        "[0,\t-1]\n",
        "])"
      ],
      "execution_count": 2,
      "outputs": []
    },
    {
      "cell_type": "markdown",
      "metadata": {
        "id": "D0J6Z_0bHeg4"
      },
      "source": [
        "#### 3. Construir arquitectura de la Red Neuronal"
      ]
    },
    {
      "cell_type": "markdown",
      "metadata": {
        "id": "GJmQPa5nHubf"
      },
      "source": [
        "La red consiste en:\n",
        "\n",
        "Una capa de entrada con 4 neuronas.\n",
        "\n",
        "Dos capas oculta con 4 neuronas.\n",
        "\n",
        "Dos neuronas en la capa de salida.\n"
      ]
    },
    {
      "cell_type": "code",
      "metadata": {
        "id": "kBLnlRQ7-0eZ"
      },
      "source": [
        "oculta1 = tf.keras.layers.Dense(units=4, input_shape=[4])\n",
        "oculta2 = tf.keras.layers.Dense(units=4)\n",
        "salida = tf.keras.layers.Dense(units=2)"
      ],
      "execution_count": 3,
      "outputs": []
    },
    {
      "cell_type": "markdown",
      "metadata": {
        "id": "zL2ZwrgzIPRR"
      },
      "source": [
        "#### 4. Crear el modelo"
      ]
    },
    {
      "cell_type": "markdown",
      "metadata": {
        "id": "-G_q3waWIgL_"
      },
      "source": [
        "Creamos nuestro modelo, utilizando el optimizador \"Adam\" y \"mean_squared_error\" para evaluar el resultado"
      ]
    },
    {
      "cell_type": "code",
      "metadata": {
        "id": "v2-l-0P--0ea"
      },
      "source": [
        "modelo = tf.keras.Sequential([oculta1, oculta2, salida])\n",
        "\n",
        "modelo.compile(\n",
        "    optimizer=tf.keras.optimizers.Adam(0.1),\n",
        "    loss='mean_squared_error'\n",
        ")"
      ],
      "execution_count": 4,
      "outputs": []
    },
    {
      "cell_type": "markdown",
      "metadata": {
        "id": "sb2McQxdI5g_"
      },
      "source": [
        "#### 5. Entrenar el modelo"
      ]
    },
    {
      "cell_type": "markdown",
      "metadata": {
        "id": "Mia1S9SfI5q-"
      },
      "source": [
        "Realizamos el entrenamiento de la red utilizando la funcion fit del modelo creado con 1000 epochs o iteraciones.\n"
      ]
    },
    {
      "cell_type": "code",
      "metadata": {
        "id": "Juf1CHma-0eb",
        "colab": {
          "base_uri": "https://localhost:8080/"
        },
        "outputId": "63d07901-1c3c-4e32-d0fd-4676a54f1135"
      },
      "source": [
        "historial = modelo.fit(x, y, epochs=1000, verbose=False)\n",
        "print(\"Success\")"
      ],
      "execution_count": 5,
      "outputs": [
        {
          "output_type": "stream",
          "name": "stdout",
          "text": [
            "Success\n"
          ]
        }
      ]
    },
    {
      "cell_type": "markdown",
      "metadata": {
        "id": "IfnvvF7FKzCQ"
      },
      "source": [
        "#### 6. Visualización del entrenamiento"
      ]
    },
    {
      "cell_type": "code",
      "metadata": {
        "id": "ZxcaBaCh-0ec",
        "colab": {
          "base_uri": "https://localhost:8080/",
          "height": 296
        },
        "outputId": "f69122c5-43b1-47f1-d29c-3c5e0db1c7a5"
      },
      "source": [
        "plt.xlabel(\"# Epoca\")\n",
        "plt.ylabel(\"Magnitud de pérdida\")\n",
        "plt.plot(historial.history[\"loss\"])"
      ],
      "execution_count": 6,
      "outputs": [
        {
          "output_type": "execute_result",
          "data": {
            "text/plain": [
              "[<matplotlib.lines.Line2D at 0x7fc4161cb850>]"
            ]
          },
          "metadata": {},
          "execution_count": 6
        },
        {
          "output_type": "display_data",
          "data": {
            "image/png": "[encoded data removed]",
            "text/plain": [
              "<Figure size 432x288 with 1 Axes>"
            ]
          },
          "metadata": {
            "needs_background": "light"
          }
        }
      ]
    },
    {
      "cell_type": "markdown",
      "metadata": {
        "id": "csPZPG3XLDLo"
      },
      "source": [
        "#### 7. Prueba de uso"
      ]
    },
    {
      "cell_type": "markdown",
      "metadata": {
        "id": "3wKDyvl0LWrJ"
      },
      "source": [
        "Para probar el modelo ya entrenado, definimos un mapa con obstáculos de ejemplo, donde: \n",
        "\n",
        "0: representa espacio libre\n",
        "\n",
        "1: representa espacio con obstáculo\n",
        "\n",
        "2: representa espacio objetivo\n",
        "\n"
      ]
    },
    {
      "cell_type": "code",
      "metadata": {
        "id": "y1l3brxBNSQr"
      },
      "source": [
        "# *Para realizar otras pruebas modificar esta variable\n",
        "strLaberinto = \"\"\"\n",
        "11111111111111111111111111111111\n",
        "10000100000000000000000000000001\n",
        "10000100000000000000000000000001\n",
        "10000100000000000000000000000001\n",
        "10000100000000000000001111100001\n",
        "10000000000000000000000000100001\n",
        "10000000000000000000000000100001\n",
        "10000000000000000000000000100001\n",
        "10000000000100000000000000100001\n",
        "10000000000100000000000000100001\n",
        "11111111111111110000000000100001\n",
        "10000000000000000000000000000001\n",
        "10000000000000000000000000000201\n",
        "10000000000000000000000000000001\n",
        "10000000000000000000000000000001\n",
        "10000000000000000000000000000001\n",
        "11111111111111111111111111111111\n",
        "\"\"\""
      ],
      "execution_count": 7,
      "outputs": []
    },
    {
      "cell_type": "code",
      "metadata": {
        "colab": {
          "base_uri": "https://localhost:8080/",
          "height": 226
        },
        "id": "5oiS24yUWXDC",
        "outputId": "4f41c27a-4f7c-4aad-bf76-78aca38485b4"
      },
      "source": [
        "Laberinto = [[int(c) for c in line] for line in strLaberinto.strip().split('\\n')]\n",
        "plt.axis('off')\n",
        "plt.imshow(Laberinto)\n",
        "n = len(Laberinto)\n",
        "m = len(Laberinto[0])\n",
        "print(n,m)"
      ],
      "execution_count": 9,
      "outputs": [
        {
          "output_type": "stream",
          "name": "stdout",
          "text": [
            "17 32\n"
          ]
        },
        {
          "output_type": "display_data",
          "data": {
            "image/png": "[encoded data removed]",
            "text/plain": [
              "<Figure size 432x288 with 1 Axes>"
            ]
          },
          "metadata": {
            "needs_background": "light"
          }
        }
      ]
    },
    {
      "cell_type": "markdown",
      "metadata": {
        "id": "RZDxecwDMOgp"
      },
      "source": [
        "Partiendo de la posición (1;1) y teniendo como destino la posición (12;29),\n",
        "se va a iterar con un máximo de 100 movimientos* :\n",
        "\n",
        "> Calcular los estados de los sensores respecto a los obstaculos del mapa/laberinto\n",
        "\n",
        ">Con los estados actuales y el modelo se realiza la predicción del movimiento a realizar\n",
        "\n",
        ">Se actualizan las posiciones (se mueve el auto)\n",
        "\n",
        ">Si se llego a la posicion destino, se sale del bucle\n",
        "\n",
        "\n",
        "\n",
        "\n",
        "\n",
        "*Se toma un máximo de movimientos debido a que en algunos casos la posicion de los obstaculos va a hacer imposible que el auto llegue a su destino pero se va a mantener dando vueltas de forma infinita esquivando obstaculos o \"evitando chocarse\"."
      ]
    },
    {
      "cell_type": "code",
      "metadata": {
        "colab": {
          "base_uri": "https://localhost:8080/"
        },
        "id": "-1fgJMEkV3Ty",
        "outputId": "3d67b40d-68b8-4d1a-fd5e-84d911b27d9e"
      },
      "source": [
        "pos_x = 1\n",
        "pos_y = 1\n",
        "pos = []\n",
        "pos.append([pos_x, pos_y])\n",
        "print(\"Posicion Inicial:\",pos_x,pos_y)\n",
        "for i in range(100):\n",
        "\n",
        "  # Medicion de los sensores\n",
        "  up, down, left, right = 0.0, 0.0, 0.0, 0.0\n",
        "\n",
        "  if(pos_x<=4 or (pos_x>4 and (Laberinto[pos_x-3][pos_y]==1 or Laberinto[pos_x-4][pos_y]==1))):    \n",
        "    up = 0.5\n",
        "  if(pos_x<=2 or (pos_x>2 and (Laberinto[pos_x-1][pos_y]==1 or Laberinto[pos_x-2][pos_y]==1))):\n",
        "    up = 1.0\n",
        "  \n",
        "  if(n-4<=pos_x or (pos_x<n-4 and (Laberinto[pos_x+3][pos_y]==1 or Laberinto[pos_x+4][pos_y]==1))):    \n",
        "    down = 0.5\n",
        "  if(n-2<=pos_x or (pos_x<n-2 and (Laberinto[pos_x+1][pos_y]==1 or Laberinto[pos_x+2][pos_y]==1))):\n",
        "    down = 1.0 \n",
        "  \n",
        "  if(pos_y<=4 or (pos_y>4 and (Laberinto[pos_x][pos_y-3]==1 or Laberinto[pos_x][pos_y-4]==1))):    \n",
        "    left = 0.5\n",
        "  if(pos_y<=2 or (pos_y>2 and (Laberinto[pos_x][pos_y-1]==1 or Laberinto[pos_x][pos_y-2]==1))):\n",
        "    left = 1.0\n",
        "\n",
        "  if(m-4<=pos_y or (pos_y<m-4 and (Laberinto[pos_x][pos_y+3]==1 or Laberinto[pos_x][pos_y+4]==1))):    \n",
        "    right = 0.5\n",
        "  if(m-2<=pos_y or (pos_y<m-2 and (Laberinto[pos_x][pos_y+1]==1 or Laberinto[pos_x][pos_y+2]==1))):\n",
        "    right = 1.0 \n",
        "\n",
        "  # Predicción\n",
        "  aux = [up, down, left, right]  \n",
        "  mov = modelo.predict([aux])\n",
        "  dx = round(mov[0][0])\n",
        "  dy = round(mov[0][1])\n",
        "\n",
        "  # Movimiento\n",
        "  if(dx==0 and dy==0):\n",
        "    dx=y[x1.index(aux)][0]\n",
        "    dy=y[x1.index(aux)][1]\n",
        "  pos_x -= dx\n",
        "  pos_y -= dy\n",
        "  pos.append([pos_x, pos_y])\n",
        "  print(\"Iteracion:\",i+1)  \n",
        "  print(\"Sensores:\",up,down,left,right)\n",
        "  print(\"Movimiento:\",dx, dy)\n",
        "  print(\"Posicion:\",pos_x,pos_y)\n",
        "  print('')\n",
        "\n",
        "  # Evaluar nueva posición\n",
        "  if(pos_x==12 and pos_y==29):\n",
        "    print('Se llego al destino')\n",
        "    break\n",
        "\n",
        "print('Fin')  "
      ],
      "execution_count": 10,
      "outputs": [
        {
          "output_type": "stream",
          "name": "stdout",
          "text": [
            "Posicion Inicial: 1 1\n",
            "Iteracion: 1\n",
            "Sensores: 1.0 0.0 1.0 0.5\n",
            "Movimiento: -1 -1\n",
            "Posicion: 2 2\n",
            "\n",
            "Iteracion: 2\n",
            "Sensores: 1.0 0.0 1.0 0.5\n",
            "Movimiento: -1 -1\n",
            "Posicion: 3 3\n",
            "\n",
            "Iteracion: 3\n",
            "Sensores: 0.5 0.0 0.5 1.0\n",
            "Movimiento: -1 0\n",
            "Posicion: 4 3\n",
            "\n",
            "Iteracion: 4\n",
            "Sensores: 0.5 0.0 0.5 1.0\n",
            "Movimiento: -1 0\n",
            "Posicion: 5 3\n",
            "\n",
            "Iteracion: 5\n",
            "Sensores: 0.0 0.0 0.5 0.0\n",
            "Movimiento: 0 -1\n",
            "Posicion: 5 4\n",
            "\n",
            "Iteracion: 6\n",
            "Sensores: 0.0 0.0 0.5 0.0\n",
            "Movimiento: 0 -1\n",
            "Posicion: 5 5\n",
            "\n",
            "Iteracion: 7\n",
            "Sensores: 1.0 0.0 0.0 0.0\n",
            "Movimiento: -1 -1\n",
            "Posicion: 6 6\n",
            "\n",
            "Iteracion: 8\n",
            "Sensores: 0.0 0.5 0.0 0.0\n",
            "Movimiento: 0 -1\n",
            "Posicion: 6 7\n",
            "\n",
            "Iteracion: 9\n",
            "Sensores: 0.0 0.5 0.0 0.0\n",
            "Movimiento: 0 -1\n",
            "Posicion: 6 8\n",
            "\n",
            "Iteracion: 10\n",
            "Sensores: 0.0 0.5 0.0 0.0\n",
            "Movimiento: 0 -1\n",
            "Posicion: 6 9\n",
            "\n",
            "Iteracion: 11\n",
            "Sensores: 0.0 0.5 0.0 0.0\n",
            "Movimiento: 0 -1\n",
            "Posicion: 6 10\n",
            "\n",
            "Iteracion: 12\n",
            "Sensores: 0.0 0.5 0.0 0.0\n",
            "Movimiento: 0 -1\n",
            "Posicion: 6 11\n",
            "\n",
            "Iteracion: 13\n",
            "Sensores: 0.0 1.0 0.0 0.0\n",
            "Movimiento: 1 -1\n",
            "Posicion: 5 12\n",
            "\n",
            "Iteracion: 14\n",
            "Sensores: 0.0 0.0 0.0 0.0\n",
            "Movimiento: 0 -1\n",
            "Posicion: 5 13\n",
            "\n",
            "Iteracion: 15\n",
            "Sensores: 0.0 0.0 0.0 0.0\n",
            "Movimiento: 0 -1\n",
            "Posicion: 5 14\n",
            "\n",
            "Iteracion: 16\n",
            "Sensores: 0.0 0.0 0.0 0.0\n",
            "Movimiento: 0 -1\n",
            "Posicion: 5 15\n",
            "\n",
            "Iteracion: 17\n",
            "Sensores: 0.0 0.0 0.0 0.0\n",
            "Movimiento: 0 -1\n",
            "Posicion: 5 16\n",
            "\n",
            "Iteracion: 18\n",
            "Sensores: 0.0 0.0 0.0 0.0\n",
            "Movimiento: 0 -1\n",
            "Posicion: 5 17\n",
            "\n",
            "Iteracion: 19\n",
            "Sensores: 0.0 0.0 0.0 0.0\n",
            "Movimiento: 0 -1\n",
            "Posicion: 5 18\n",
            "\n",
            "Iteracion: 20\n",
            "Sensores: 0.0 0.0 0.0 0.0\n",
            "Movimiento: 0 -1\n",
            "Posicion: 5 19\n",
            "\n",
            "Iteracion: 21\n",
            "Sensores: 0.0 0.0 0.0 0.0\n",
            "Movimiento: 0 -1\n",
            "Posicion: 5 20\n",
            "\n",
            "Iteracion: 22\n",
            "Sensores: 0.0 0.0 0.0 0.0\n",
            "Movimiento: 0 -1\n",
            "Posicion: 5 21\n",
            "\n",
            "Iteracion: 23\n",
            "Sensores: 0.0 0.0 0.0 0.0\n",
            "Movimiento: 0 -1\n",
            "Posicion: 5 22\n",
            "\n",
            "Iteracion: 24\n",
            "Sensores: 1.0 0.0 0.0 0.5\n",
            "Movimiento: -1 0\n",
            "Posicion: 6 22\n",
            "\n",
            "Iteracion: 25\n",
            "Sensores: 1.0 0.0 0.0 0.5\n",
            "Movimiento: -1 0\n",
            "Posicion: 7 22\n",
            "\n",
            "Iteracion: 26\n",
            "Sensores: 0.5 0.0 0.0 0.5\n",
            "Movimiento: -1 -1\n",
            "Posicion: 8 23\n",
            "\n",
            "Iteracion: 27\n",
            "Sensores: 0.5 0.0 0.0 0.5\n",
            "Movimiento: -1 -1\n",
            "Posicion: 9 24\n",
            "\n",
            "Iteracion: 28\n",
            "Sensores: 0.0 0.0 0.0 1.0\n",
            "Movimiento: -1 0\n",
            "Posicion: 10 24\n",
            "\n",
            "Iteracion: 29\n",
            "Sensores: 0.0 0.0 0.0 1.0\n",
            "Movimiento: -1 0\n",
            "Posicion: 11 24\n",
            "\n",
            "Iteracion: 30\n",
            "Sensores: 0.0 0.0 0.0 0.0\n",
            "Movimiento: 0 -1\n",
            "Posicion: 11 25\n",
            "\n",
            "Iteracion: 31\n",
            "Sensores: 0.0 0.0 0.0 0.0\n",
            "Movimiento: 0 -1\n",
            "Posicion: 11 26\n",
            "\n",
            "Iteracion: 32\n",
            "Sensores: 1.0 0.0 0.0 0.0\n",
            "Movimiento: -1 -1\n",
            "Posicion: 12 27\n",
            "\n",
            "Iteracion: 33\n",
            "Sensores: 0.0 0.5 0.0 0.5\n",
            "Movimiento: 0 -1\n",
            "Posicion: 12 28\n",
            "\n",
            "Iteracion: 34\n",
            "Sensores: 0.0 0.5 0.0 0.5\n",
            "Movimiento: 0 -1\n",
            "Posicion: 12 29\n",
            "\n",
            "Se llego al destino\n",
            "Fin\n"
          ]
        }
      ]
    },
    {
      "cell_type": "markdown",
      "metadata": {
        "id": "NSEpMrC1Rct9"
      },
      "source": [
        "#### 8. Visualización Gráfica del proceso anterior"
      ]
    },
    {
      "cell_type": "code",
      "metadata": {
        "colab": {
          "base_uri": "https://localhost:8080/",
          "height": 1000
        },
        "id": "Bb0krl1du-S7",
        "outputId": "e2538a49-90e1-47d2-ab37-a672a84fb0c0"
      },
      "source": [
        "n_pos=len(pos)\n",
        "fig = plt.figure(figsize=(25, 25))\n",
        "for move in range(n_pos):\n",
        "  a = fig.add_subplot(7, 5, move+1)  \n",
        "  plt.axis('off')\n",
        "  L = copy.deepcopy(Laberinto)  \n",
        "  L[pos[move][0]][pos[move][1]]=3\n",
        "  plt.imshow(L)\n",
        "  plt.text(0, 0, f\"move={move}\")\n",
        "plt.show()"
      ],
      "execution_count": 11,
      "outputs": [
        {
          "output_type": "display_data",
          "data": {
            "image/png": "[encoded data removed]",
            "text/plain": [
              "<Figure size 1800x1800 with 35 Axes>"
            ]
          },
          "metadata": {
            "needs_background": "light"
          }
        }
      ]
    },
    {
      "cell_type": "markdown",
      "metadata": {
        "id": "kaSSXgJTTN9d"
      },
      "source": [
        "Se tuvo inconvenientes para vincular de forma directa a una interfaz gráfica de usuario. Lo que adicionalmente se logró fue utilizar los datos de salida de 2 ejemplos ejecutados en este cuaderno para realizar una interfaz a nivel web en la siguiente pagina: https://moral-agents.github.io/TB2-IA/ "
      ]
    },
    {
      "cell_type": "code",
      "metadata": {
        "id": "4N_O6UdWUAKm"
      },
      "source": [
        "# Laberinto de un segundo caso / ejemplo\n",
        "strLaberinto2 = \"\"\"\n",
        "11111111111111111111111111111111\n",
        "10000000000000000000000000000001\n",
        "10000000000000000000000000000001\n",
        "10000000000000000000001000000001\n",
        "11111000000000000000001000000001\n",
        "10000000000000000000001000000001\n",
        "10000000000000000000001111111111\n",
        "10000000000000000000001000000001\n",
        "10000000000000000000000000000001\n",
        "10000000000000000000000000000001\n",
        "10000000000010000000000000000001\n",
        "10000000000011100000000000000001\n",
        "10000000000010000000000000000201\n",
        "10000000000010000000000000000001\n",
        "10000000000010000000000000000001\n",
        "10000000000010000000000000000001\n",
        "11111111111111111111111111111111\n",
        "\"\"\""
      ],
      "execution_count": null,
      "outputs": []
    }
  ]
}